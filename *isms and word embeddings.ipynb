{
 "cells": [
  {
   "cell_type": "code",
   "execution_count": 1,
   "metadata": {
    "collapsed": true
   },
   "outputs": [],
   "source": [
    "from gensim.models.word2vec import Word2Vec"
   ]
  },
  {
   "cell_type": "code",
   "execution_count": 2,
   "metadata": {
    "collapsed": false
   },
   "outputs": [],
   "source": [
    "model = Word2Vec.load_word2vec_format('/home/katharine/Downloads/datasets/GoogleNews-vectors-negative300.bin', binary=True)"
   ]
  },
  {
   "cell_type": "code",
   "execution_count": 3,
   "metadata": {
    "collapsed": false
   },
   "outputs": [
    {
     "data": {
      "text/plain": [
       "[('woman', 0.6288787126541138),\n",
       " ('ladies', 0.6225837469100952),\n",
       " ('dear_madam', 0.5752772092819214),\n",
       " ('lady_Laura', 0.5290763974189758),\n",
       " ('lass', 0.5245870351791382),\n",
       " ('NANCY_REAGAN', 0.5168942213058472),\n",
       " ('Bernadette_Chirac', 0.5130250453948975),\n",
       " ('gentleman', 0.5127373337745667),\n",
       " ('lady_Bernadette_Chirac', 0.5105433464050293),\n",
       " ('Maggie_Kernan', 0.5103081464767456),\n",
       " ('madam', 0.509242832660675),\n",
       " ('Chow_Mei_ching', 0.5085628628730774),\n",
       " ('she', 0.5079309344291687),\n",
       " ('gal', 0.5078533291816711),\n",
       " ('beauty_queen', 0.5051864385604858),\n",
       " ('actress', 0.5019620656967163),\n",
       " ('FLOTUS', 0.5011751651763916),\n",
       " ('girl', 0.50031578540802),\n",
       " ('vivacious_blonde', 0.4933965504169464),\n",
       " ('lady_Michelle', 0.4913025498390198)]"
      ]
     },
     "execution_count": 3,
     "metadata": {},
     "output_type": "execute_result"
    }
   ],
   "source": [
    "model.most_similar(['lady'], topn=20)"
   ]
  },
  {
   "cell_type": "code",
   "execution_count": 4,
   "metadata": {
    "collapsed": false
   },
   "outputs": [
    {
     "data": {
      "text/plain": [
       "[('gent', 0.696304202079773),\n",
       " ('gentlemen', 0.6525269150733948),\n",
       " ('chap', 0.6144852042198181),\n",
       " ('Recalling_Mazaniego', 0.5581732392311096),\n",
       " ('courtly_gentleman', 0.535300076007843),\n",
       " ('gentlemanly', 0.5343484282493591),\n",
       " ('man', 0.5337990522384644),\n",
       " ('singer_Dion_DiMucci', 0.5209696888923645),\n",
       " ('fella', 0.513627827167511),\n",
       " ('lady', 0.5127373337745667),\n",
       " ('unfailingly_courteous', 0.5073881149291992),\n",
       " ('MODERATOR_Ladies', 0.5059815645217896),\n",
       " ('statesman', 0.5022931694984436),\n",
       " ('gentlemens', 0.5019793510437012),\n",
       " ('sportsman', 0.5003272294998169),\n",
       " ('overdone_HDR', 0.499975323677063),\n",
       " ('Excellencies_ladies', 0.4964221119880676),\n",
       " ('stunningly_handsome', 0.4961439371109009),\n",
       " ('Gentleman', 0.49522626399993896),\n",
       " ('gentlewoman', 0.49280431866645813)]"
      ]
     },
     "execution_count": 4,
     "metadata": {},
     "output_type": "execute_result"
    }
   ],
   "source": [
    "model.most_similar(['gentleman'], topn=20)"
   ]
  },
  {
   "cell_type": "code",
   "execution_count": 5,
   "metadata": {
    "collapsed": false
   },
   "outputs": [
    {
     "data": {
      "text/plain": [
       "[('gynecologist', 0.7093892097473145),\n",
       " ('nurse', 0.647728681564331),\n",
       " ('doctors', 0.6471461057662964),\n",
       " ('physician', 0.64389967918396),\n",
       " ('pediatrician', 0.6249487996101379),\n",
       " ('nurse_practitioner', 0.6218314170837402),\n",
       " ('obstetrician', 0.6072014570236206),\n",
       " ('ob_gyn', 0.5986712574958801),\n",
       " ('midwife', 0.5927063226699829),\n",
       " ('dermatologist', 0.5739566087722778)]"
      ]
     },
     "execution_count": 5,
     "metadata": {},
     "output_type": "execute_result"
    }
   ],
   "source": [
    "model.most_similar(positive=['doctor', 'woman'], negative=['man'])"
   ]
  },
  {
   "cell_type": "code",
   "execution_count": 6,
   "metadata": {
    "collapsed": false
   },
   "outputs": [
    {
     "data": {
      "text/plain": [
       "[('associate_professor', 0.7771055698394775),\n",
       " ('assistant_professor', 0.7558495402336121),\n",
       " ('professor_emeritus', 0.706612229347229),\n",
       " ('lecturer', 0.6982605457305908),\n",
       " ('sociology_professor', 0.653916597366333),\n",
       " ('professor_emerita', 0.6526011228561401),\n",
       " ('psychology_professor', 0.6448471546173096),\n",
       " ('emeritus_professor', 0.6402521133422852),\n",
       " ('Associate_Professor', 0.6397101879119873),\n",
       " ('doctoral_candidate', 0.6313148736953735)]"
      ]
     },
     "execution_count": 6,
     "metadata": {},
     "output_type": "execute_result"
    }
   ],
   "source": [
    "model.most_similar(positive=['professor', 'woman'], negative=['man'])"
   ]
  },
  {
   "cell_type": "code",
   "execution_count": 7,
   "metadata": {
    "collapsed": false
   },
   "outputs": [
    {
     "data": {
      "text/plain": [
       "[('homemaker', 0.5627118945121765),\n",
       " ('housewife', 0.5105047225952148),\n",
       " ('graphic_designer', 0.505180299282074),\n",
       " ('schoolteacher', 0.49794942140579224),\n",
       " ('businesswoman', 0.49348920583724976),\n",
       " ('paralegal', 0.4925510883331299),\n",
       " ('registered_nurse', 0.49079740047454834),\n",
       " ('saleswoman', 0.4881627559661865),\n",
       " ('electrical_engineer', 0.4797726571559906),\n",
       " ('mechanical_engineer', 0.4755399823188782)]"
      ]
     },
     "execution_count": 7,
     "metadata": {},
     "output_type": "execute_result"
    }
   ],
   "source": [
    "model.most_similar(positive=['computer_programmer', 'woman'], negative=['man'])"
   ]
  },
  {
   "cell_type": "code",
   "execution_count": 8,
   "metadata": {
    "collapsed": false
   },
   "outputs": [
    {
     "data": {
      "text/plain": [
       "[('immigrants', 0.7985076904296875),\n",
       " ('Immigrant', 0.6984704732894897),\n",
       " ('migrant', 0.6784891486167908),\n",
       " ('illegal_immigrant', 0.6712934970855713),\n",
       " ('immigration', 0.6017557382583618),\n",
       " ('Immigrants', 0.6007307767868042),\n",
       " ('Latino_immigrants', 0.5922548174858093),\n",
       " ('undocumented_immigrant', 0.5837289094924927),\n",
       " ('illegal_alien', 0.5803018808364868),\n",
       " ('emigrant', 0.5761232376098633),\n",
       " ('undocumented', 0.5736480355262756),\n",
       " ('illegal_immigrants', 0.562640368938446),\n",
       " ('Jiverly_Wong_Vietnamese', 0.5591845512390137),\n",
       " ('migrants', 0.5539226531982422),\n",
       " ('refugee', 0.5538355112075806),\n",
       " ('émigré', 0.5462258458137512),\n",
       " ('al_Muhajer_Arabic', 0.5444192290306091),\n",
       " ('immigrated', 0.5372807383537292),\n",
       " ('undocumented_migrant', 0.5324149131774902),\n",
       " ('undocumented_workers', 0.529522180557251),\n",
       " ('undocumented_immigrants', 0.528624415397644),\n",
       " ('migrant_worker', 0.5251922607421875),\n",
       " ('emigre', 0.5173331499099731),\n",
       " ('illegal_immigration', 0.5097696185112),\n",
       " ('immigrating', 0.5067129135131836),\n",
       " ('Latino', 0.5055316686630249),\n",
       " ('tamperproof_identification_card', 0.5021493434906006),\n",
       " ('Author_Leon_Uris', 0.5016255378723145),\n",
       " ('Sephardic_Jew', 0.5012019872665405),\n",
       " ('emigres', 0.49650174379348755)]"
      ]
     },
     "execution_count": 8,
     "metadata": {},
     "output_type": "execute_result"
    }
   ],
   "source": [
    "model.most_similar(positive=['immigrant'], topn=30)"
   ]
  },
  {
   "cell_type": "code",
   "execution_count": 9,
   "metadata": {
    "collapsed": false
   },
   "outputs": [
    {
     "data": {
      "text/plain": [
       "[('negroes', 0.7197504639625549),\n",
       " ('blacks', 0.6292858123779297),\n",
       " ('Negro', 0.5892727375030518),\n",
       " ('Blacks', 0.5798656344413757),\n",
       " ('negro', 0.5609244108200073),\n",
       " ('slaves', 0.5548534393310547),\n",
       " ('niggers', 0.553610622882843),\n",
       " ('Slaveholders', 0.5344251990318298),\n",
       " ('Jim_Crow', 0.5325761437416077),\n",
       " ('Niggers', 0.5323723554611206),\n",
       " ('Slavery', 0.5270963907241821),\n",
       " ('freed_slaves', 0.5210206508636475),\n",
       " ('mulattoes', 0.5133998394012451),\n",
       " ('nigger', 0.5113440155982971),\n",
       " ('slavery', 0.5068677067756653),\n",
       " ('Slaves', 0.5060689449310303),\n",
       " ('emancipated_slaves', 0.505790114402771),\n",
       " ('mulattos', 0.5049401521682739),\n",
       " ('slaveholders', 0.5034961700439453),\n",
       " ('slaveholding', 0.501977264881134),\n",
       " ('Southerners', 0.49772515892982483),\n",
       " ('Nigger', 0.49563562870025635),\n",
       " ('darkies', 0.4940319061279297),\n",
       " ('Anglo_Saxon_Protestants', 0.48511773347854614),\n",
       " ('slave_masters', 0.48476719856262207),\n",
       " ('chattel_slavery', 0.48348134756088257),\n",
       " ('honkies', 0.4831426739692688),\n",
       " ('Coloreds', 0.4819203019142151),\n",
       " ('slavemasters', 0.48085904121398926),\n",
       " ('racists', 0.47880426049232483)]"
      ]
     },
     "execution_count": 9,
     "metadata": {},
     "output_type": "execute_result"
    }
   ],
   "source": [
    "model.most_similar(positive=['Negroes'], topn=30)"
   ]
  },
  {
   "cell_type": "code",
   "execution_count": 10,
   "metadata": {
    "collapsed": false
   },
   "outputs": [
    {
     "data": {
      "text/plain": [
       "[('hispanics', 0.7345616817474365),\n",
       " ('latinos', 0.6618988513946533),\n",
       " ('ILLEGALS', 0.6574230194091797),\n",
       " ('LEGAL_immigrants', 0.6541558504104614),\n",
       " ('mexican', 0.6493428945541382),\n",
       " ('thats_ok', 0.6343405246734619),\n",
       " ('americans', 0.6324713230133057),\n",
       " ('illegals', 0.6298996210098267),\n",
       " ('ILLEGAL_aliens', 0.6289116144180298),\n",
       " ('african_americans', 0.6253759860992432),\n",
       " ('ILLEGAL_immigrants', 0.6236621141433716),\n",
       " ('Illegal_aliens', 0.6230918765068054),\n",
       " ('ILLEGAL_ALIENS', 0.6135344505310059),\n",
       " ('beaners', 0.6121573448181152),\n",
       " ('imigrants', 0.6120362281799316),\n",
       " ('mabey', 0.6090655326843262),\n",
       " ('asians', 0.6082718372344971),\n",
       " ('ppl', 0.6080414652824402),\n",
       " ('ILLEGALLY', 0.6049005389213562),\n",
       " ('africans', 0.604507565498352),\n",
       " ('wabs', 0.6043102741241455),\n",
       " ('migra', 0.6002342700958252),\n",
       " ('thoes', 0.5916675925254822),\n",
       " ('wetbacks', 0.5915497541427612),\n",
       " ('pepole', 0.5903594493865967),\n",
       " ('Illegals', 0.5868790149688721),\n",
       " ('cali', 0.5840927958488464),\n",
       " ('jews', 0.5840511918067932),\n",
       " ('illigal', 0.5836286544799805),\n",
       " ('dont', 0.5747972726821899)]"
      ]
     },
     "execution_count": 10,
     "metadata": {},
     "output_type": "execute_result"
    }
   ],
   "source": [
    "model.most_similar(positive=['mexicans'], topn=30)"
   ]
  },
  {
   "cell_type": "code",
   "execution_count": 11,
   "metadata": {
    "collapsed": false
   },
   "outputs": [
    {
     "data": {
      "text/plain": [
       "[('africans', 0.663192868232727),\n",
       " ('hispanics', 0.6509121060371399),\n",
       " ('african_americans', 0.6345248222351074),\n",
       " ('blacks_hispanics', 0.6342692971229553),\n",
       " ('latinos', 0.6315776109695435),\n",
       " ('malay', 0.6270092725753784),\n",
       " ('south_africans', 0.6205959320068359),\n",
       " ('kkk', 0.6111278533935547),\n",
       " ('sinhalese', 0.6110905408859253),\n",
       " ('muslims', 0.6090466976165771),\n",
       " ('mexicans', 0.6082717776298523),\n",
       " ('sinhala', 0.6058874130249023),\n",
       " ('wogs', 0.6049606204032898),\n",
       " ('malays', 0.6043859720230103),\n",
       " ('caucasians', 0.5998857617378235),\n",
       " ('pakistanis', 0.5928927659988403),\n",
       " ('caucasion', 0.5927388668060303),\n",
       " ('asian', 0.5919480323791504),\n",
       " ('singaporean', 0.5905511379241943),\n",
       " ('gooks', 0.5904884934425354),\n",
       " ('malaysian', 0.5902351140975952),\n",
       " ('pendatang', 0.5819982290267944),\n",
       " ('sistas', 0.5791674256324768),\n",
       " ('whimps', 0.5776767730712891),\n",
       " ('hatered', 0.5757954120635986),\n",
       " ('ignorants', 0.5753582715988159),\n",
       " ('balck', 0.5751579999923706),\n",
       " ('blackie', 0.5746598839759827),\n",
       " ('jews', 0.5736600160598755),\n",
       " ('Gooks', 0.5730868577957153)]"
      ]
     },
     "execution_count": 11,
     "metadata": {},
     "output_type": "execute_result"
    }
   ],
   "source": [
    "model.most_similar(positive=['asians'], topn=30)"
   ]
  },
  {
   "cell_type": "code",
   "execution_count": 12,
   "metadata": {
    "collapsed": false
   },
   "outputs": [
    {
     "data": {
      "text/plain": [
       "[('arabs', 0.7036463022232056),\n",
       " ('jewish', 0.6818790435791016),\n",
       " ('Jews', 0.6657212376594543),\n",
       " ('muslims', 0.6624203324317932),\n",
       " ('palestinians', 0.6185414791107178),\n",
       " ('zionists', 0.6171693801879883),\n",
       " ('palestine', 0.6166346073150635),\n",
       " ('jew', 0.6068052053451538),\n",
       " ('pakistanis', 0.6040884852409363),\n",
       " ('kikes', 0.600452184677124),\n",
       " ('israelis', 0.5979132652282715),\n",
       " ('muslim', 0.5972869992256165),\n",
       " ('americans', 0.595831036567688),\n",
       " ('tamils', 0.5943053960800171),\n",
       " ('hitler', 0.5932643413543701),\n",
       " ('nazis', 0.5932113528251648),\n",
       " ('iranians', 0.5904929637908936),\n",
       " ('hezbollah', 0.5884104371070862),\n",
       " ('christians', 0.5850348472595215),\n",
       " ('mexicans', 0.5840511322021484),\n",
       " ('sinhalese', 0.5825763940811157),\n",
       " ('serbs', 0.5819608569145203),\n",
       " ('israel', 0.5815111398696899),\n",
       " ('africans', 0.5791912078857422),\n",
       " ('JEWS', 0.5769749283790588),\n",
       " ('asians', 0.5736600160598755),\n",
       " ('russians', 0.5684324502944946),\n",
       " ('gentiles', 0.5676693916320801),\n",
       " ('islam', 0.5658465027809143),\n",
       " ('zionist', 0.5643917918205261)]"
      ]
     },
     "execution_count": 12,
     "metadata": {},
     "output_type": "execute_result"
    }
   ],
   "source": [
    "model.most_similar(positive=['jews'], topn=30)"
   ]
  },
  {
   "cell_type": "code",
   "execution_count": 13,
   "metadata": {
    "collapsed": false
   },
   "outputs": [
    {
     "data": {
      "text/plain": [
       "[('man', 0.5950417518615723),\n",
       " ('girl', 0.5900001525878906),\n",
       " ('teenage_girl', 0.5858008861541748),\n",
       " ('womans', 0.5559374690055847),\n",
       " ('asians', 0.5351939797401428),\n",
       " ('caucasion', 0.5297797918319702),\n",
       " ('african_american', 0.5155142545700073),\n",
       " ('male', 0.5132802724838257),\n",
       " ('woma', 0.5100461840629578),\n",
       " ('latina', 0.5093170404434204),\n",
       " ('accomplice_Hudgens', 0.5077911615371704),\n",
       " ('lady', 0.5053465366363525),\n",
       " ('female', 0.5038390159606934),\n",
       " ('chick', 0.5037717223167419),\n",
       " ('angelina', 0.5014441609382629),\n",
       " ('sucking_dick', 0.5011622309684753),\n",
       " ('shemales', 0.4994005262851715),\n",
       " (\"QI'ma\", 0.4963480830192566),\n",
       " ('rihanna', 0.4933023452758789),\n",
       " ('shemale', 0.49093782901763916),\n",
       " ('teenager', 0.49029970169067383),\n",
       " ('caucasian', 0.48955148458480835),\n",
       " ('pussy_licking', 0.4887848496437073),\n",
       " ('beyonce', 0.4853123426437378),\n",
       " ('teenaged_girl', 0.485219269990921),\n",
       " ('micheal_jackson', 0.4841338098049164),\n",
       " ('sucking_cock', 0.48392438888549805),\n",
       " ('hispanic', 0.4837331771850586),\n",
       " ('WOMAN', 0.4815380573272705),\n",
       " ('hispanic_male', 0.4801202416419983)]"
      ]
     },
     "execution_count": 13,
     "metadata": {},
     "output_type": "execute_result"
    }
   ],
   "source": [
    "model.most_similar(positive=['asian', 'woman'], topn=30)"
   ]
  },
  {
   "cell_type": "code",
   "execution_count": 14,
   "metadata": {
    "collapsed": false
   },
   "outputs": [
    {
     "data": {
      "text/plain": [
       "[('homosexual', 0.6522338390350342),\n",
       " ('woman', 0.6459335088729858),\n",
       " ('gays', 0.6092754602432251),\n",
       " ('homosexuals', 0.6080513000488281),\n",
       " ('lesbian', 0.603328287601471),\n",
       " ('Stanley_Waipouri', 0.5987964272499084),\n",
       " ('lesbians', 0.5939511060714722),\n",
       " ('transgender', 0.568322479724884),\n",
       " ('boy', 0.5563656091690063),\n",
       " ('teenager', 0.5529888868331909),\n",
       " ('Naimian', 0.5521574020385742),\n",
       " ('horribly_horribly_deranged', 0.5503616333007812),\n",
       " ('transgendered', 0.5501259565353394),\n",
       " ('hetrosexual', 0.5485897660255432),\n",
       " ('closeted_homosexuals', 0.5450376272201538),\n",
       " ('Gay', 0.5434014797210693),\n",
       " ('openly_gay', 0.5425971746444702),\n",
       " ('heterosexual', 0.5418949723243713),\n",
       " ('transsexual', 0.5411743521690369),\n",
       " ('queer', 0.5371575951576233),\n",
       " ('teenage_girl', 0.5346525311470032),\n",
       " ('Zoliswa_Nkonyana', 0.5323870182037354),\n",
       " ('queers', 0.5320796966552734),\n",
       " ('gay_lesbian', 0.5295287370681763),\n",
       " ('gay_basher', 0.5290274620056152),\n",
       " ('homos', 0.5258285999298096),\n",
       " ('transvestite_hooker', 0.5228224992752075),\n",
       " ('killingA', 0.520081639289856),\n",
       " ('homophobe', 0.5193006992340088),\n",
       " ('genderqueer', 0.517866849899292)]"
      ]
     },
     "execution_count": 14,
     "metadata": {},
     "output_type": "execute_result"
    }
   ],
   "source": [
    "model.most_similar(positive=['gay', 'man'], topn=30)"
   ]
  },
  {
   "cell_type": "code",
   "execution_count": 15,
   "metadata": {
    "collapsed": false
   },
   "outputs": [
    {
     "data": {
      "text/plain": [
       "[('woman', 0.7289077043533325),\n",
       " ('transvestite', 0.6438230276107788),\n",
       " ('teenage_girl', 0.6113646030426025),\n",
       " ('transexual', 0.6048141121864319),\n",
       " ('teenager', 0.6042708158493042),\n",
       " ('girl', 0.5900824666023254),\n",
       " ('boy', 0.5612837076187134),\n",
       " ('transwoman', 0.5470385551452637),\n",
       " ('cross_dresser', 0.5428159832954407),\n",
       " ('prostitute', 0.5410325527191162),\n",
       " ('transman', 0.536678671836853),\n",
       " ('transgender', 0.5316097140312195),\n",
       " ('Stanley_Waipouri', 0.5275489687919617),\n",
       " ('transexuals', 0.5274134874343872),\n",
       " ('Leah_Questin', 0.5272082686424255),\n",
       " ('transsexuals', 0.525116503238678),\n",
       " ('transgendered', 0.5245092511177063),\n",
       " ('horribly_horribly_deranged', 0.5238111019134521),\n",
       " ('CONVICTED_rapist', 0.5187652111053467),\n",
       " ('drag_queen', 0.5181214809417725),\n",
       " ('Kristyn_Haino', 0.5160046219825745),\n",
       " ('Transsexual', 0.5062334537506104),\n",
       " ('pre_op_transsexual', 0.5056465864181519),\n",
       " ('MENTALLY_ill', 0.5040767788887024),\n",
       " ('killingA', 0.5014540553092957),\n",
       " ('Alleged_rapist', 0.501440167427063),\n",
       " ('Stabbing_suspect', 0.4975399374961853),\n",
       " ('Michael_Kantaras', 0.49732232093811035),\n",
       " ('lesbian', 0.4972291588783264),\n",
       " ('transvestite_prostitute', 0.4961603581905365)]"
      ]
     },
     "execution_count": 15,
     "metadata": {},
     "output_type": "execute_result"
    }
   ],
   "source": [
    "model.most_similar(positive=['transsexual', 'man'], topn=30)"
   ]
  },
  {
   "cell_type": "code",
   "execution_count": null,
   "metadata": {
    "collapsed": true
   },
   "outputs": [],
   "source": []
  }
 ],
 "metadata": {
  "kernelspec": {
   "display_name": "Python 3",
   "language": "python",
   "name": "python3"
  },
  "language_info": {
   "codemirror_mode": {
    "name": "ipython",
    "version": 3
   },
   "file_extension": ".py",
   "mimetype": "text/x-python",
   "name": "python",
   "nbconvert_exporter": "python",
   "pygments_lexer": "ipython3",
   "version": "3.4.3"
  }
 },
 "nbformat": 4,
 "nbformat_minor": 0
}
