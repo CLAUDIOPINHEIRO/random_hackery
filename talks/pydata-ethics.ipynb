{
 "cells": [
  {
   "cell_type": "markdown",
   "metadata": {
    "slideshow": {
     "slide_type": "slide"
    }
   },
   "source": [
    "# Ethical Machine Learning\n",
    "## Creating Fair Models in an Unjust World\n",
    "### Katharine Jarmul (@kjam) \n",
    "### PyData Amsterdam 2017"
   ]
  },
  {
   "cell_type": "markdown",
   "metadata": {
    "slideshow": {
     "slide_type": "slide"
    }
   },
   "source": [
    "<center>\n",
    "    <img src=\"assets/Black-Mirror-Nosedive_unume6.jpg\" />\n",
    "</center>\n",
    "#### Black Mirror \"Nosedive\""
   ]
  },
  {
   "cell_type": "markdown",
   "metadata": {
    "slideshow": {
     "slide_type": "slide"
    }
   },
   "source": [
    "<center>\n",
    "<video loop=\"1\" muted=\"\" autoplay=\"1\"  src=\"assets/black-mirror-episode-nosedive-is-a-terrifying-assessment-of-all-our-favorite-apps-1199040.webm\" type=\"video/webm\"></video>\n",
    "\n",
    "</center>"
   ]
  },
  {
   "cell_type": "markdown",
   "metadata": {
    "slideshow": {
     "slide_type": "slide"
    }
   },
   "source": [
    "# Where are the doors in our society?"
   ]
  },
  {
   "cell_type": "markdown",
   "metadata": {
    "slideshow": {
     "slide_type": "fragment"
    }
   },
   "source": [
    "## - Job Applications, LinkedIn, \"Networking\""
   ]
  },
  {
   "cell_type": "markdown",
   "metadata": {
    "slideshow": {
     "slide_type": "fragment"
    }
   },
   "source": [
    "## - Credit Ratings, Loan Offers, Peer-to-Peer Lending"
   ]
  },
  {
   "cell_type": "markdown",
   "metadata": {
    "slideshow": {
     "slide_type": "fragment"
    }
   },
   "source": [
    "## - University applications, Study and Meetup Groups, Career Development Programs"
   ]
  },
  {
   "cell_type": "markdown",
   "metadata": {
    "slideshow": {
     "slide_type": "fragment"
    }
   },
   "source": [
    "## - Social Media, Dating Sites, Recommendations"
   ]
  },
  {
   "cell_type": "markdown",
   "metadata": {
    "slideshow": {
     "slide_type": "slide"
    }
   },
   "source": [
    "<center>\n",
    "<img src=\"http://clandestinofestival.org/dev/wp-content/uploads/2011/10/Nawal-High-Resolution2.jpg\" height=\"30%\" width=\"30%\"/>\n",
    "<br />\n",
    "<h2>When we live in a world that is very unjust, you have to be a dissident.</h2>\n",
    "\n",
    "<h4>Nawal El Saadawi</h4>\n",
    "\n",
    "</center>"
   ]
  },
  {
   "cell_type": "markdown",
   "metadata": {
    "slideshow": {
     "slide_type": "slide"
    }
   },
   "source": [
    "\n",
    "# Ethics in the Data and Technology Industry\n",
    "\n",
    "## \"Ethics can't be a side hustle.\"\n",
    "\n",
    "### Mike Monteiro"
   ]
  },
  {
   "cell_type": "markdown",
   "metadata": {
    "slideshow": {
     "slide_type": "slide"
    }
   },
   "source": [
    "# Machine Learning and \"Big Data\" \n",
    "\n",
    "## Smaller datasets don't generalize well.\n",
    "## Deep learning frameworks and architectures often require large datasets."
   ]
  },
  {
   "cell_type": "markdown",
   "metadata": {
    "slideshow": {
     "slide_type": "slide"
    }
   },
   "source": [
    "# Crowdsourcing Data\n",
    "\n",
    "<center>\n",
    "<br />\n",
    "<img src=\"assets/women_boss.png\" >\n",
    "</center>"
   ]
  },
  {
   "cell_type": "markdown",
   "metadata": {
    "slideshow": {
     "slide_type": "fragment"
    }
   },
   "source": [
    "### \"A worker is being scolded by her boss in a stern lecture.\""
   ]
  },
  {
   "cell_type": "markdown",
   "metadata": {
    "slideshow": {
     "slide_type": "fragment"
    }
   },
   "source": [
    "### \"A hot, blond girl getting criticized by her boss.\"\n",
    "\n",
    "#### Stereotyping and Bias in the Flickr30K Dataset by Emiel van Miltenburg"
   ]
  },
  {
   "cell_type": "markdown",
   "metadata": {
    "slideshow": {
     "slide_type": "slide"
    }
   },
   "source": [
    "## Data Privacy as Privilege\n",
    "\n",
    "### Free services offered in exchange for data use."
   ]
  },
  {
   "cell_type": "markdown",
   "metadata": {
    "slideshow": {
     "slide_type": "fragment"
    }
   },
   "source": [
    "\n",
    "<center>\n",
    "<img src=\"assets/facebook_wifi_checkins.png\" />\n",
    "</center>\n",
    "\n",
    "#### Source: CNet "
   ]
  },
  {
   "cell_type": "markdown",
   "metadata": {
    "slideshow": {
     "slide_type": "slide"
    }
   },
   "source": [
    "# Data Privacy as Privilege\n",
    "\n",
    "### Less technological literacy means more data points."
   ]
  },
  {
   "cell_type": "markdown",
   "metadata": {
    "slideshow": {
     "slide_type": "fragment"
    }
   },
   "source": [
    "<center>\n",
    "<img src=\"assets/untick_boxes.png\" />\n",
    "</center>\n",
    "\n",
    "#### Source: Formismo"
   ]
  },
  {
   "cell_type": "markdown",
   "metadata": {
    "slideshow": {
     "slide_type": "slide"
    }
   },
   "source": [
    "<center>\n",
    "    <img src=\"assets/disparate_effect.png\" />\n",
    "</center>\n",
    "#### Say \"Hi!\" to Your New Boss (32c3 talk by Andreas Dewes)"
   ]
  },
  {
   "cell_type": "markdown",
   "metadata": {
    "slideshow": {
     "slide_type": "slide"
    }
   },
   "source": [
    "# Modeling the Real (Unjust) World"
   ]
  },
  {
   "cell_type": "markdown",
   "metadata": {
    "slideshow": {
     "slide_type": "slide"
    }
   },
   "source": [
    "# NLP Data: Word Vectors\n",
    "\n",
    "## Language inherits our cultural biases. "
   ]
  },
  {
   "cell_type": "markdown",
   "metadata": {
    "slideshow": {
     "slide_type": "slide"
    }
   },
   "source": [
    "<center>\n",
    "<img src=\"assets/she_he_translate.png\" >\n",
    "</center>\n"
   ]
  },
  {
   "cell_type": "markdown",
   "metadata": {
    "slideshow": {
     "slide_type": "fragment"
    }
   },
   "source": [
    "<center>\n",
    "<img src=\"assets/he_she_translate.png\" >\n",
    "</center>\n"
   ]
  },
  {
   "cell_type": "markdown",
   "metadata": {
    "slideshow": {
     "slide_type": "slide"
    }
   },
   "source": [
    "# Machine Bias (ProPublica study on COMPAS recidivism study)\n",
    "\n",
    "<img src=\"assets/propublica_charts.png\" />"
   ]
  },
  {
   "cell_type": "markdown",
   "metadata": {
    "collapsed": true,
    "slideshow": {
     "slide_type": "slide"
    }
   },
   "source": [
    "# Ethics for powerful algorithms by Abe Gong \n",
    "\n",
    "<img src=\"assets/abe_gong_chart.png\" />"
   ]
  },
  {
   "cell_type": "markdown",
   "metadata": {
    "slideshow": {
     "slide_type": "slide"
    }
   },
   "source": [
    "# How can we test for unfair treatment or embedded *isms in our models?"
   ]
  },
  {
   "cell_type": "markdown",
   "metadata": {
    "slideshow": {
     "slide_type": "slide"
    }
   },
   "source": [
    "# Disparate Impact Test\n",
    "\n",
    "<img src=\"assets/disparate_impact.png\" />\n",
    "\n",
    "#### Certifying and removing disparate impact by Michael Feldman, Sorelle A. Friedler, John Moeller, Carlos Scheidegger, Suresh Venkatasubramanian"
   ]
  },
  {
   "cell_type": "markdown",
   "metadata": {
    "slideshow": {
     "slide_type": "slide"
    }
   },
   "source": [
    "## WEAT & WEFAT tests\n",
    "\n",
    " <img src=\"assets/wefat.png\" />\n",
    "\n",
    "#### Semantics derived automatically from language corpora necessarily contain human biases by Aylin Caliskan-Islam, Joanna J. Bryson and Arvind Narayanan"
   ]
  },
  {
   "cell_type": "markdown",
   "metadata": {
    "slideshow": {
     "slide_type": "slide"
    }
   },
   "source": [
    "# FairTest"
   ]
  },
  {
   "cell_type": "code",
   "execution_count": null,
   "metadata": {
    "collapsed": true,
    "slideshow": {
     "slide_type": "fragment"
    }
   },
   "outputs": [],
   "source": [
    "from fairtest.testing import Testing\n",
    "\n",
    "SENS = ['gender', 'race']        # Protected features\n",
    "TARGET = 'income'             # Output\n",
    "EXPL = ''                     # Explanatory feature\n",
    "\n",
    "inv = Testing(data, SENS, TARGET, EXPL)"
   ]
  },
  {
   "cell_type": "markdown",
   "metadata": {
    "slideshow": {
     "slide_type": "fragment"
    }
   },
   "source": [
    "### FairTest: Discovering Unwarranted Associations in Data-Driven Applications by Florian Tramèr, Vaggelis Atlidakis, Roxana Geambasu, Daniel Hsu, Jean-Pierre Hubaux, Mathias Humbert, Ari Juels, Huang Lin"
   ]
  },
  {
   "cell_type": "markdown",
   "metadata": {
    "slideshow": {
     "slide_type": "slide"
    }
   },
   "source": [
    "# Combating Unfair Treatment and *isms in Models"
   ]
  },
  {
   "cell_type": "markdown",
   "metadata": {
    "slideshow": {
     "slide_type": "fragment"
    }
   },
   "source": [
    "## Separate Data & Use Ensemble"
   ]
  },
  {
   "cell_type": "markdown",
   "metadata": {
    "slideshow": {
     "slide_type": "fragment"
    }
   },
   "source": [
    "<center>\n",
    "    <img src=\"assets/meetup_ensemble.png\" />\n",
    "</center>\n",
    "\n",
    "### Evan Estola, Meetup.com, When Recommendation Systems go Bad"
   ]
  },
  {
   "cell_type": "markdown",
   "metadata": {
    "slideshow": {
     "slide_type": "slide"
    }
   },
   "source": [
    "# Combating Unfair Treatment and *isms in Models\n",
    "\n",
    "## Equal odds, equal opportunity"
   ]
  },
  {
   "cell_type": "markdown",
   "metadata": {
    "slideshow": {
     "slide_type": "fragment"
    }
   },
   "source": [
    "### *Equalized odds* enforces that the accuracy is equally high in all demographics, punishing models that perform well only on the majority.\n",
    "\n",
    "### A possible relaxation of equalized odds is to require non-discrimination only within the “advantaged” outcome group. That is, to require that people who pay back their loan, have an *equal opportunity* of getting the loan in the first place.\n",
    "\n",
    "#### Equality of Opportunity in Supervised Learning by Moritz Hardt, Eric Price and Nathan Srebro"
   ]
  },
  {
   "cell_type": "markdown",
   "metadata": {
    "slideshow": {
     "slide_type": "slide"
    }
   },
   "source": [
    "# Combating Unfair Treatment and *isms in Models\n",
    "\n",
    "## Transparent & explainable models"
   ]
  },
  {
   "cell_type": "markdown",
   "metadata": {
    "slideshow": {
     "slide_type": "slide"
    }
   },
   "source": [
    "<img src=\"assets/maximum_actiation_analysis.png\" >\n",
    "#### \"Ideas on Interpreting Machine Learning\" by Patrick Hall, Wen Phan and SriSatish Ambati"
   ]
  },
  {
   "cell_type": "markdown",
   "metadata": {
    "slideshow": {
     "slide_type": "slide"
    }
   },
   "source": [
    "# Ethics from Wall Street: the Financial Modeler's Manifesto \n",
    "#### by Emanuel Derman and Paul Wilmott"
   ]
  },
  {
   "cell_type": "markdown",
   "metadata": {
    "slideshow": {
     "slide_type": "fragment"
    }
   },
   "source": [
    "### I will remember that I didn’t make the world, and it doesn’t satisfy my equations."
   ]
  },
  {
   "cell_type": "markdown",
   "metadata": {
    "slideshow": {
     "slide_type": "fragment"
    }
   },
   "source": [
    "### Though I will use models boldly to estimate value, I will not be overly impressed by mathematics."
   ]
  },
  {
   "cell_type": "markdown",
   "metadata": {
    "slideshow": {
     "slide_type": "fragment"
    }
   },
   "source": [
    "### I will never sacrifice reality for elegance without explaining why I have done so."
   ]
  },
  {
   "cell_type": "markdown",
   "metadata": {
    "slideshow": {
     "slide_type": "fragment"
    }
   },
   "source": [
    "### Nor will I give the people who use my model false comfort about its accuracy. Instead, I will make explicit its assumptions and oversights."
   ]
  },
  {
   "cell_type": "markdown",
   "metadata": {
    "slideshow": {
     "slide_type": "fragment"
    }
   },
   "source": [
    "### I understand that my work may have enormous effects on society and the economy, many of them beyond my comprehension."
   ]
  },
  {
   "cell_type": "markdown",
   "metadata": {
    "slideshow": {
     "slide_type": "slide"
    }
   },
   "source": [
    "<center>\n",
    "<img src=\"assets/FranklinFrance.jpg\" />\n",
    "<h2>\"Science and everyday life cannot and should not be separated.\"</h2>\n",
    "\n",
    "<h4>Rosalind Franklin</h4>\n",
    "</center>\n"
   ]
  },
  {
   "cell_type": "markdown",
   "metadata": {
    "slideshow": {
     "slide_type": "slide"
    }
   },
   "source": [
    "# Thank you!\n",
    "\n",
    "## Additional thoughts, recommended reading and slides at: https://blog.kjamistan.com"
   ]
  }
 ],
 "metadata": {
  "celltoolbar": "Slideshow",
  "kernelspec": {
   "display_name": "Python 3",
   "language": "python",
   "name": "python3"
  },
  "language_info": {
   "codemirror_mode": {
    "name": "ipython",
    "version": 3
   },
   "file_extension": ".py",
   "mimetype": "text/x-python",
   "name": "python",
   "nbconvert_exporter": "python",
   "pygments_lexer": "ipython3",
   "version": "3.4.3"
  }
 },
 "nbformat": 4,
 "nbformat_minor": 0
}
